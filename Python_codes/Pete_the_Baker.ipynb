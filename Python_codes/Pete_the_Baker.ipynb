{
 "cells": [
  {
   "cell_type": "code",
   "execution_count": null,
   "metadata": {},
   "outputs": [],
   "source": [
    "#https://www.codewars.com/kata/525c65e51bf619685c000059\n",
    "# Pete the backer\n",
    "# Check maximum number of items Pete can bake\n",
    "# Given the ingredients and recipe\n",
    "\n",
    "def cakes(recipe, available):\n",
    "    ncakes = []\n",
    "    for key, value in recipe.items():\n",
    "        if key in available:\n",
    "            ncakes.append(int(available[key]/value))\n",
    "        else:\n",
    "            return int(0)\n",
    "    return min(ncakes)"
   ]
  }
 ],
 "metadata": {
  "kernelspec": {
   "display_name": "Python 3",
   "language": "python",
   "name": "python3"
  },
  "language_info": {
   "codemirror_mode": {
    "name": "ipython",
    "version": 3
   },
   "file_extension": ".py",
   "mimetype": "text/x-python",
   "name": "python",
   "nbconvert_exporter": "python",
   "pygments_lexer": "ipython3",
   "version": "3.6.7"
  }
 },
 "nbformat": 4,
 "nbformat_minor": 2
}
