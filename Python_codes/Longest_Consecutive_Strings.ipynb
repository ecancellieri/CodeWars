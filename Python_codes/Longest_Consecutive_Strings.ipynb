{
 "cells": [
  {
   "cell_type": "code",
   "execution_count": null,
   "metadata": {},
   "outputs": [],
   "source": [
    "# https://www.codewars.com/kata/56a5d994ac971f1ac500003e\n",
    "# Longest consecutive strings\n",
    "def longest_consec(strarr, k):\n",
    "  if len(strarr) == 0 or k > len(strarr) or k <= 0:\n",
    "    return \"\"\n",
    "  length = 0\n",
    "  for i in range(len(strarr)-k+1):\n",
    "    if len(''.join(strarr[i:i+k])) > length:\n",
    "      out    = ''.join(strarr[i:i+k])\n",
    "      length = len(''.join(strarr[i:i+k]))\n",
    "  return out"
   ]
  }
 ],
 "metadata": {
  "kernelspec": {
   "display_name": "Python 3",
   "language": "python",
   "name": "python3"
  },
  "language_info": {
   "codemirror_mode": {
    "name": "ipython",
    "version": 3
   },
   "file_extension": ".py",
   "mimetype": "text/x-python",
   "name": "python",
   "nbconvert_exporter": "python",
   "pygments_lexer": "ipython3",
   "version": "3.6.7"
  }
 },
 "nbformat": 4,
 "nbformat_minor": 2
}
