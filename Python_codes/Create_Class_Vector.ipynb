{
 "cells": [
  {
   "cell_type": "code",
   "execution_count": null,
   "metadata": {},
   "outputs": [],
   "source": [
    "#https://www.codewars.com/kata/526dad7f8c0eb5c4640000a4\n",
    "#Create a Vector object that supports addition, subtraction, dot products, and norms\n",
    "\n",
    "import numpy as np\n",
    "class Vector(object):\n",
    "        \n",
    "    def __init__(self, coordinates):\n",
    "        self.coordinates = coordinates\n",
    "\n",
    "    def __str__(self):\n",
    "        return str(tuple(self.coordinates)).replace(\" \", \"\")\n",
    "        \n",
    "    def add(self,vect_b):\n",
    "        try:\n",
    "            if len(self.coordinates) != len(vect_b.coordinates):\n",
    "                raise TypeError\n",
    "            return Vector(np.array(self.coordinates) + np.array(vect_b.coordinates))\n",
    "        except TypeError:\n",
    "            raise TypeError('The vector must have same length')\n",
    "        \n",
    "    def subtract(self,vect_b):\n",
    "        try:\n",
    "            if len(self.coordinates) != len(vect_b.coordinates):\n",
    "                raise TypeError\n",
    "            return Vector(np.array(self.coordinates) - np.array(vect_b.coordinates))\n",
    "        except TypeError:\n",
    "            raise TypeError('The vector must have same length')\n",
    "            \n",
    "    def norm(self):\n",
    "        return np.linalg.norm(self.coordinates)\n",
    "    \n",
    "    def dot(self,vect_b):\n",
    "        try:\n",
    "            if len(self.coordinates) != len(vect_b.coordinates):\n",
    "                raise TypeError\n",
    "            return np.dot(self.coordinates,vect_b.coordinates)\n",
    "        except TypeError:\n",
    "            raise TypeError('The vector must have same length')\n",
    "\n",
    "    def equals(self,vect_b):\n",
    "        return np.array_equal(self.coordinates, vect_b.coordinates)"
   ]
  }
 ],
 "metadata": {
  "kernelspec": {
   "display_name": "Python 3",
   "language": "python",
   "name": "python3"
  },
  "language_info": {
   "codemirror_mode": {
    "name": "ipython",
    "version": 3
   },
   "file_extension": ".py",
   "mimetype": "text/x-python",
   "name": "python",
   "nbconvert_exporter": "python",
   "pygments_lexer": "ipython3",
   "version": "3.6.7"
  }
 },
 "nbformat": 4,
 "nbformat_minor": 2
}
