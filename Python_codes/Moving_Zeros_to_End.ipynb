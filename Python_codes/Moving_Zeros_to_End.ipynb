{
 "cells": [
  {
   "cell_type": "code",
   "execution_count": null,
   "metadata": {},
   "outputs": [],
   "source": [
    "# https://www.codewars.com/kata/52597aa56021e91c93000cb0\n",
    "# Movinz zeros to the end\n",
    "def move_zeros(array):\n",
    "    out = []\n",
    "    for item in array:\n",
    "        if item is False or item != 0:\n",
    "            out.append(item)\n",
    "    for i in range(len(array)-len(out)):\n",
    "        out.append(int(0))\n",
    "    return out"
   ]
  }
 ],
 "metadata": {
  "kernelspec": {
   "display_name": "Python 3",
   "language": "python",
   "name": "python3"
  },
  "language_info": {
   "codemirror_mode": {
    "name": "ipython",
    "version": 3
   },
   "file_extension": ".py",
   "mimetype": "text/x-python",
   "name": "python",
   "nbconvert_exporter": "python",
   "pygments_lexer": "ipython3",
   "version": "3.6.7"
  }
 },
 "nbformat": 4,
 "nbformat_minor": 2
}
